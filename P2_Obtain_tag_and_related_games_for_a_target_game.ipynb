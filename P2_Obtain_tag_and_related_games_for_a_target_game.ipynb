{
 "cells": [
  {
   "cell_type": "markdown",
   "id": "74528020",
   "metadata": {},
   "source": [
    "### Pipeline 2 - Exploring games related to Port Royale 4\n",
    "\n",
    "In our codes for P1, we show that text-mining on reviews of Port Royale 4 is feasible and informative for providing a summary of the game from the perspective of gamers. In this summary, an user may observe features/descriptions that he/she is really worried about and wants to explore other gaming options. This can happen even for games that are overwhelmingly rated positive.\n",
    "\n",
    "To assist our user to check out gaming alternatives that take into account their concerns, we need to first identify game candidates that are related to the game our user is looking into. This notebook provides the pipeline needed for this process. We will  again to use Port Royale 4 as an exmple for code testing."
   ]
  },
  {
   "cell_type": "markdown",
   "id": "2d5f488d",
   "metadata": {},
   "source": [
    "### Step 1: Webscrapping tags associated with Port Royale 4\n",
    "\n",
    "We will get the taps for Port Royale 4, 3, and 3 as to check the robustness of our webscrapping method."
   ]
  },
  {
   "cell_type": "code",
   "execution_count": 1,
   "id": "cbee75dd",
   "metadata": {},
   "outputs": [],
   "source": [
    "#port royale 4 (mixed)\n",
    "gameID1 = 1024650\n",
    "#port royale 3 (mostly positive)\n",
    "gameID2 = 205610\n",
    "#port royale 2 (mixed)\n",
    "gameID3 = 12470\n",
    "gameIDs = [gameID1, gameID2, gameID3]"
   ]
  },
  {
   "cell_type": "code",
   "execution_count": 10,
   "id": "95390eb1",
   "metadata": {},
   "outputs": [],
   "source": [
    "import requests\n",
    "from bs4 import BeautifulSoup as bs\n",
    "import re"
   ]
  },
  {
   "cell_type": "code",
   "execution_count": 11,
   "id": "32161359",
   "metadata": {},
   "outputs": [],
   "source": [
    "def extract_tags(gameID):\n",
    "    game_url = 'https://store.steampowered.com/app/' + str(gameID)\n",
    "    game_page = requests.get(game_url)\n",
    "    game_soup = bs(game_page.content, 'html.parser')\n",
    "    game_tag_html = game_soup.find_all('a', class_=\"app_tag\")\n",
    "    game_tag_list = []\n",
    "    for tag in game_tag_html:\n",
    "        match = re.search(r'\\s*(\\w*)\\s+',tag.get_text())\n",
    "        if match:\n",
    "            game_tag_list.append(match.group(1))\n",
    "    return game_tag_list"
   ]
  },
  {
   "cell_type": "code",
   "execution_count": 21,
   "id": "9a5c2b94",
   "metadata": {},
   "outputs": [
    {
     "name": "stdout",
     "output_type": "stream",
     "text": [
      "Tags for game ID 1024650 :  ['Strategy', 'Simulation', 'Trading', 'Economy', 'Management', 'Pirates', 'Naval', 'Sailing']\n",
      "Tags for game ID 205610 :  ['Strategy', 'Trading', 'Simulation', 'Economy', 'Pirates', 'Management', 'Naval', 'Action', 'Historical', 'Naval', 'Open', 'Sailing', 'Singleplayer', 'Adventure']\n",
      "Tags for game ID 12470 :  ['Strategy', 'Trading', 'Economy', 'Pirates', 'Naval', 'Historical', 'City']\n"
     ]
    }
   ],
   "source": [
    "game_tag_list = []\n",
    "for gameID in gameIDs:\n",
    "    game_tag_list.append(extract_tags(gameID))\n",
    "    print('Tags for game ID', gameID, ': ', extract_tags(gameID))"
   ]
  },
  {
   "cell_type": "markdown",
   "id": "67fc1876",
   "metadata": {},
   "source": [
    "### Step 2: Weight the importance of the extracted tags\n",
    "\n",
    "On every tage availabe on steam, the frequency for its appearance across games on steam has been computed. Arraanged in a descending order of one's appearing frequency, these tags are displayed at https://store.steampowered.com/tag/browse/#global_492.\n",
    "\n",
    "We will use this ordering to re-order our extracted tags so that the final ordering of our extracted tags reflects their importance on steam."
   ]
  },
  {
   "cell_type": "code",
   "execution_count": 74,
   "id": "4c859b60",
   "metadata": {},
   "outputs": [],
   "source": [
    "def extract_popular_steam_tags():\n",
    "    tag_url = 'https://store.steampowered.com/tag/browse/#global_492'\n",
    "    tag_page=requests.get(tag_url)\n",
    "    tag_soup = bs(tag_page.content,'html.parser')\n",
    "    tag_html = tag_soup.find_all('div',class_='tag_browse_tag')\n",
    "    tag_list = []\n",
    "    for tag in tag_html:\n",
    "        match = re.search(r'<div class=\"tag_browse_tag\" data-tagid=\"(\\d*)\">(\\w*)</div>'\n",
    "                              ,str(tag))\n",
    "        if match:\n",
    "            tag_list.append([match.group(2),match.group(1)])\n",
    "    return tag_list"
   ]
  },
  {
   "cell_type": "code",
   "execution_count": 76,
   "id": "bfb826d0",
   "metadata": {},
   "outputs": [
    {
     "name": "stdout",
     "output_type": "stream",
     "text": [
      "Top 5 popular tags & their tagIDs on steam are (in descending order):  [['Indie', '492'], ['Action', '19'], ['Adventure', '21'], ['Casual', '597'], ['Simulation', '599']]\n"
     ]
    }
   ],
   "source": [
    "popular_tag = extract_popular_steam_tags()\n",
    "print('Top 5 popular tags & their tagIDs on steam are (in descending order): '\n",
    "      , extract_popular_steam_tags()[:5])"
   ]
  },
  {
   "cell_type": "code",
   "execution_count": 79,
   "id": "1f8d68c5",
   "metadata": {},
   "outputs": [],
   "source": [
    "## We build a dictionary that weight the popular tags extracted from steam\n",
    "def build_tag_dict(popular_tag):\n",
    "    max_score = len(popular_tag)\n",
    "    tag_dict = {}\n",
    "    count = 0\n",
    "    for tag, tag_ID in popular_tag:\n",
    "        tag_dict[tag] = [max_score - count, tag_ID]\n",
    "        count = count + 1\n",
    "    return tag_dict "
   ]
  },
  {
   "cell_type": "code",
   "execution_count": 80,
   "id": "0cacda69",
   "metadata": {},
   "outputs": [
    {
     "name": "stdout",
     "output_type": "stream",
     "text": [
      "Indie :  [250, '492']\n",
      "Action :  [249, '19']\n",
      "Adventure :  [248, '21']\n",
      "Casual :  [247, '597']\n",
      "Simulation :  [246, '599']\n"
     ]
    }
   ],
   "source": [
    "tag_dict = build_tag_dict(popular_tag)\n",
    "for key in list(tag_dict.keys())[:5]:\n",
    "    print(key, ': ', tag_dict[key])"
   ]
  },
  {
   "cell_type": "code",
   "execution_count": 47,
   "id": "bb42c8d2",
   "metadata": {},
   "outputs": [],
   "source": [
    "import pandas as pd"
   ]
  },
  {
   "cell_type": "code",
   "execution_count": 69,
   "id": "3bd02b5f",
   "metadata": {},
   "outputs": [],
   "source": [
    "def sort_tag(tag_dict, tag_list):\n",
    "    data = []\n",
    "    for tag in tag_list:\n",
    "        if tag in tag_dict:\n",
    "            data.append([tag, tag_dict[tag]])\n",
    "        else:\n",
    "            print('The unpopular tag ', \"'\", tag, \"'\", 'is removed.')\n",
    "    df = pd.DataFrame(data, columns = ['Tag','Weight'])\n",
    "    sorted_df = df.sort_values(by=['Weight'],ascending=False)\n",
    "    sorted_tag_list = sorted_df.iloc[:,0].tolist()\n",
    "    return sorted_tag_list"
   ]
  },
  {
   "cell_type": "code",
   "execution_count": 71,
   "id": "d8736ce3",
   "metadata": {},
   "outputs": [
    {
     "name": "stdout",
     "output_type": "stream",
     "text": [
      "['Simulation', 'Strategy', 'Management', 'Economy', 'Trading', 'Pirates', 'Naval', 'Sailing']\n",
      "The unpopular tag  ' Open ' is removed.\n",
      "['Action', 'Adventure', 'Simulation', 'Strategy', 'Singleplayer', 'Management', 'Historical', 'Economy', 'Trading', 'Pirates', 'Naval', 'Naval', 'Sailing']\n",
      "The unpopular tag  ' City ' is removed.\n",
      "['Strategy', 'Historical', 'Economy', 'Trading', 'Pirates', 'Naval']\n"
     ]
    }
   ],
   "source": [
    "sorted_game_tag_list = []\n",
    "for tag_list in game_tag_list:\n",
    "    temp_list = sort_tag(tag_dict,tag_list)\n",
    "    sorted_game_tag_list.append(temp_list)\n",
    "    print(temp_list)"
   ]
  },
  {
   "cell_type": "markdown",
   "id": "df0045dd",
   "metadata": {},
   "source": [
    "### Step 3: Search for games related to our selected game\n",
    "\n",
    "After sorting the tags used for our game of concern, we search for other existing games on steam that also share these tags. Since the lists of tags used in 2 different games are unlikely to be the same, for simplicity of establishing a pipeline, we only search of games that share the 2 most popular tag identifed in our game of concern. These tags correspond to the number 1 and the number 2 elements of our sorted list of tag. Again, we use Port Royale 4 as a demo for code building. Also, we only search for new-release games at the current moment; otherwise the time to download reviews, especially for old, popular games, is enormous.\n",
    "\n",
    "P.S. There seems to be a limit of 50 on the number of games that we can access without invoking the use of a browser. Thus, we only work on 50 games at the moment."
   ]
  },
  {
   "cell_type": "code",
   "execution_count": 101,
   "id": "3120e74e",
   "metadata": {},
   "outputs": [
    {
     "data": {
      "text/plain": [
       "('Simulation', 'Strategy')"
      ]
     },
     "execution_count": 101,
     "metadata": {},
     "output_type": "execute_result"
    }
   ],
   "source": [
    "target_game_tag_list = sorted_game_tag_list[0][:2]\n",
    "target_game_tag_list[0], target_game_tag_list[1]"
   ]
  },
  {
   "cell_type": "code",
   "execution_count": 174,
   "id": "3b5feb9f",
   "metadata": {},
   "outputs": [],
   "source": [
    "#target_search_url = 'https://store.steampowered.com/search/?tags=' + tag_dict[target_game_tag_list[0]][1] + '%2C' + tag_dict[target_game_tag_list[1]][1]\n",
    "\n",
    "target_search_url = 'https://store.steampowered.com/search/?sort_by=Released_DESC&tags=' + tag_dict[target_game_tag_list[0]][1] + '%2C' + tag_dict[target_game_tag_list[1]][1]"
   ]
  },
  {
   "cell_type": "code",
   "execution_count": 175,
   "id": "a9d23bf2",
   "metadata": {},
   "outputs": [],
   "source": [
    "def get_related_game_and_ID(target_search_url):\n",
    "    page = requests.get(target_search_url)\n",
    "    soup = bs(page.content, 'html.parser')\n",
    "    html = soup.find_all('a',class_='search_result_row')\n",
    "    game_search_result = []\n",
    "    for info in html:\n",
    "        match_id = re.search(r'[.\\n]*data-ds-appid=\"(\\d+)',str(info))\n",
    "        match_name = re.search(r'.*https://store.steampowered.com/app/\\d+/(.+)/' ,str(info))\n",
    "        if match_id and match_name:\n",
    "            game_search_result.append([match_name.group(1), match_id.group(1)])\n",
    "    return game_search_result"
   ]
  },
  {
   "cell_type": "code",
   "execution_count": 176,
   "id": "f36cd658",
   "metadata": {},
   "outputs": [],
   "source": [
    "game_search_result = get_related_game_and_ID(target_search_url)"
   ]
  },
  {
   "cell_type": "code",
   "execution_count": 177,
   "id": "e0c46a8e",
   "metadata": {},
   "outputs": [
    {
     "name": "stdout",
     "output_type": "stream",
     "text": [
      "Top 5 results from searching  Simulation games and  Strategy games\n",
      "Game Name:  Arma_3_Creator_DLC_SOG_Prairie_Fire ; App ID:  1227700\n",
      "Game Name:  Fimbul_Winter ; App ID:  1605590\n",
      "Game Name:  SpaceShips ; App ID:  1605950\n",
      "Game Name:  Disgraced_Hands_of_Fate_DLC ; App ID:  1628220\n",
      "Game Name:  Throw_Knives ; App ID:  1610660\n"
     ]
    }
   ],
   "source": [
    "print('Top 5 results from searching '\n",
    "      ,target_game_tag_list[0]\n",
    "      ,'games and '\n",
    "      ,target_game_tag_list[1]\n",
    "      ,'games')\n",
    "for name, ID in game_search_result[:5]:\n",
    "    print('Game Name: ', name, '; App ID: ', ID)"
   ]
  },
  {
   "cell_type": "markdown",
   "id": "2af33311",
   "metadata": {},
   "source": [
    "### Step 4: Text-mining for reviews of games related to our selected game\n",
    "\n",
    "Now, we have obtained a list of latest-release games sharing the tags, Simulation & Strategy. We want to extract reviews as well as players' play time in a per-user manner for these games.\n",
    "\n",
    "To do the above task, we can re-use our pipeline in \"P1_Sentiment_analyses_NLP_on_reviews_along_a_game_series\" to download players' reviews. However, we are still missing a pipeliine to identify the play time of each player as well as game descriptions found in his/her review to him/her, followed by saving the result in a .cvs format. Also, the obtained descriptions for each game should also be saved.\n",
    "\n",
    "In this session, we will attempt to build this pipeline."
   ]
  },
  {
   "cell_type": "code",
   "execution_count": 268,
   "id": "c45dd825",
   "metadata": {},
   "outputs": [],
   "source": [
    "#We re-use our old pipeline\n",
    "import json\n",
    "import steamreviews\n",
    "import os\n",
    "from io import StringIO\n",
    "\n",
    "gameID1 = 1024650\n",
    "\n",
    "df = pd.DataFrame(game_search_result, columns = ['Name','App ID'])\n",
    "\n",
    "out_file_name = 'Data/Search_result_for_' + str(gameID1) + '.csv'\n",
    "df.to_csv(out_file_name, index=False, encoding='utf-8')"
   ]
  },
  {
   "cell_type": "code",
   "execution_count": 269,
   "id": "65c6ad5e",
   "metadata": {},
   "outputs": [],
   "source": [
    "## We now load in the save search results and download reviews for all of them\n",
    "def load_search_and_download(out_file_name):\n",
    "    json_abspath = os.path.abspath(out_file_name)\n",
    "    df = pd.read_csv(out_file_name)\n",
    "    gameIDs = df['App ID'].to_list()\n",
    "    steamreviews.download_reviews_for_app_id_batch(gameIDs)\n",
    "    return gameIDs"
   ]
  },
  {
   "cell_type": "code",
   "execution_count": 270,
   "id": "9d3d9754",
   "metadata": {},
   "outputs": [
    {
     "name": "stdout",
     "output_type": "stream",
     "text": [
      "Loading idprocessed_on_20210506.txt\n",
      "Skipping previously found appID = 1227700\n",
      "Skipping previously found appID = 1605590\n",
      "Skipping previously found appID = 1605950\n",
      "Skipping previously found appID = 1628220\n",
      "Skipping previously found appID = 1610660\n",
      "Skipping previously found appID = 1603370\n",
      "Skipping previously found appID = 1090760\n",
      "Skipping previously found appID = 1176187\n",
      "Skipping previously found appID = 1593180\n",
      "Skipping previously found appID = 1591930\n",
      "Skipping previously found appID = 483330\n",
      "Skipping previously found appID = 1460540\n",
      "Skipping previously found appID = 1528120\n",
      "Skipping previously found appID = 1577860\n",
      "Skipping previously found appID = 1606950\n",
      "Skipping previously found appID = 1261200\n",
      "Skipping previously found appID = 1392340\n",
      "Skipping previously found appID = 1551080\n",
      "Skipping previously found appID = 1088484\n",
      "Skipping previously found appID = 1439220\n",
      "Skipping previously found appID = 1568240\n",
      "Skipping previously found appID = 1623280\n",
      "Skipping previously found appID = 1458540\n",
      "Skipping previously found appID = 1603120\n",
      "Skipping previously found appID = 1558630\n",
      "Skipping previously found appID = 1489660\n",
      "Skipping previously found appID = 1373930\n",
      "Skipping previously found appID = 1183480\n",
      "Skipping previously found appID = 1364224\n",
      "Skipping previously found appID = 1412761\n",
      "Skipping previously found appID = 1385100\n",
      "Skipping previously found appID = 1501530\n",
      "Skipping previously found appID = 1170350\n",
      "Skipping previously found appID = 1418231\n",
      "Skipping previously found appID = 1307591\n",
      "Skipping previously found appID = 1564440\n",
      "Skipping previously found appID = 1088480\n",
      "Skipping previously found appID = 1551440\n",
      "Skipping previously found appID = 1606590\n",
      "Skipping previously found appID = 1586100\n",
      "Skipping previously found appID = 1530440\n",
      "Skipping previously found appID = 1522100\n",
      "Skipping previously found appID = 1428100\n",
      "Skipping previously found appID = 1589440\n",
      "Skipping previously found appID = 1596070\n",
      "Skipping previously found appID = 1600800\n",
      "Skipping previously found appID = 1587660\n",
      "Skipping previously found appID = 1582090\n",
      "Skipping previously found appID = 1592340\n",
      "Skipping previously found appID = 1422360\n",
      "Game records written: 0\n"
     ]
    }
   ],
   "source": [
    "gameIDs = load_search_and_download(out_file_name)"
   ]
  },
  {
   "cell_type": "code",
   "execution_count": 271,
   "id": "6b2605ad",
   "metadata": {},
   "outputs": [],
   "source": [
    "#We reuse old pipeline starting from here.\n",
    "def extract_reviews_to_csv(gameID):\n",
    "    json_path = 'data/review_' + str(gameID) +'.json'\n",
    "    json_abspath = os.path.abspath(json_path)\n",
    "    f = open(json_abspath, 'r')\n",
    "    data = json.load(f)\n",
    "    review_list = []\n",
    "    #Below, we make use of the fact that\n",
    "    #each review stored in 'data['reviews']' is stored as a tuple {user ID, details of the review},\n",
    "    #and each 'details of the review' is itself a dictationary.\n",
    "    #This can be converted into a nested dictinoary using data['reviews'].items(), so that user ID\n",
    "    #become the key and the details of the review becomes the corresponding value.\n",
    "    for user_id, review_info in data['reviews'].items():\n",
    "        #For each item, we build our own disctionary, selecting info we care at the moment\n",
    "        review_select = {\n",
    "            'Steam ID': user_id,\n",
    "            'Review': review_info['review'],\n",
    "            'Language': review_info['language'],\n",
    "            'Recommended': review_info['voted_up'],\n",
    "            'Play time': review_info['author']['playtime_forever'],\n",
    "            'Purchase': review_info['steam_purchase']\n",
    "        }\n",
    "        review_list.append(review_select)\n",
    "    review_deposit = json.dumps(review_list, indent=4)\n",
    "    #convert json object to csv\n",
    "    df = pd.read_json(StringIO(review_deposit))\n",
    "    out_file_name = os.path.dirname(json_abspath) + '/review_' + str(gameID) + '.csv'\n",
    "    df.to_csv(out_file_name, index=False, encoding='utf-8')\n",
    "    print('Reviews being saved to:', out_file_name)"
   ]
  },
  {
   "cell_type": "code",
   "execution_count": 272,
   "id": "56b1acba",
   "metadata": {},
   "outputs": [
    {
     "name": "stdout",
     "output_type": "stream",
     "text": [
      "Reviews being saved to: /Users/delcck/Desktop/Research/ML_AI/Capstone_Interview/data/review_1227700.csv\n",
      "Reviews being saved to: /Users/delcck/Desktop/Research/ML_AI/Capstone_Interview/data/review_1605590.csv\n",
      "Reviews being saved to: /Users/delcck/Desktop/Research/ML_AI/Capstone_Interview/data/review_1605950.csv\n",
      "Reviews being saved to: /Users/delcck/Desktop/Research/ML_AI/Capstone_Interview/data/review_1628220.csv\n",
      "Reviews being saved to: /Users/delcck/Desktop/Research/ML_AI/Capstone_Interview/data/review_1610660.csv\n",
      "Reviews being saved to: /Users/delcck/Desktop/Research/ML_AI/Capstone_Interview/data/review_1603370.csv\n",
      "Reviews being saved to: /Users/delcck/Desktop/Research/ML_AI/Capstone_Interview/data/review_1090760.csv\n",
      "Reviews being saved to: /Users/delcck/Desktop/Research/ML_AI/Capstone_Interview/data/review_1176187.csv\n",
      "Reviews being saved to: /Users/delcck/Desktop/Research/ML_AI/Capstone_Interview/data/review_1593180.csv\n",
      "Reviews being saved to: /Users/delcck/Desktop/Research/ML_AI/Capstone_Interview/data/review_1591930.csv\n",
      "Reviews being saved to: /Users/delcck/Desktop/Research/ML_AI/Capstone_Interview/data/review_483330.csv\n",
      "Reviews being saved to: /Users/delcck/Desktop/Research/ML_AI/Capstone_Interview/data/review_1460540.csv\n",
      "Reviews being saved to: /Users/delcck/Desktop/Research/ML_AI/Capstone_Interview/data/review_1528120.csv\n",
      "Reviews being saved to: /Users/delcck/Desktop/Research/ML_AI/Capstone_Interview/data/review_1577860.csv\n",
      "Reviews being saved to: /Users/delcck/Desktop/Research/ML_AI/Capstone_Interview/data/review_1606950.csv\n",
      "Reviews being saved to: /Users/delcck/Desktop/Research/ML_AI/Capstone_Interview/data/review_1261200.csv\n",
      "Reviews being saved to: /Users/delcck/Desktop/Research/ML_AI/Capstone_Interview/data/review_1392340.csv\n",
      "Reviews being saved to: /Users/delcck/Desktop/Research/ML_AI/Capstone_Interview/data/review_1551080.csv\n",
      "Reviews being saved to: /Users/delcck/Desktop/Research/ML_AI/Capstone_Interview/data/review_1088484.csv\n",
      "Reviews being saved to: /Users/delcck/Desktop/Research/ML_AI/Capstone_Interview/data/review_1439220.csv\n",
      "Reviews being saved to: /Users/delcck/Desktop/Research/ML_AI/Capstone_Interview/data/review_1568240.csv\n",
      "Reviews being saved to: /Users/delcck/Desktop/Research/ML_AI/Capstone_Interview/data/review_1623280.csv\n",
      "Reviews being saved to: /Users/delcck/Desktop/Research/ML_AI/Capstone_Interview/data/review_1458540.csv\n",
      "Reviews being saved to: /Users/delcck/Desktop/Research/ML_AI/Capstone_Interview/data/review_1603120.csv\n",
      "Reviews being saved to: /Users/delcck/Desktop/Research/ML_AI/Capstone_Interview/data/review_1558630.csv\n",
      "Reviews being saved to: /Users/delcck/Desktop/Research/ML_AI/Capstone_Interview/data/review_1489660.csv\n",
      "Reviews being saved to: /Users/delcck/Desktop/Research/ML_AI/Capstone_Interview/data/review_1373930.csv\n",
      "Reviews being saved to: /Users/delcck/Desktop/Research/ML_AI/Capstone_Interview/data/review_1183480.csv\n",
      "Reviews being saved to: /Users/delcck/Desktop/Research/ML_AI/Capstone_Interview/data/review_1364224.csv\n",
      "Reviews being saved to: /Users/delcck/Desktop/Research/ML_AI/Capstone_Interview/data/review_1412761.csv\n",
      "Reviews being saved to: /Users/delcck/Desktop/Research/ML_AI/Capstone_Interview/data/review_1385100.csv\n",
      "Reviews being saved to: /Users/delcck/Desktop/Research/ML_AI/Capstone_Interview/data/review_1501530.csv\n",
      "Reviews being saved to: /Users/delcck/Desktop/Research/ML_AI/Capstone_Interview/data/review_1170350.csv\n",
      "Reviews being saved to: /Users/delcck/Desktop/Research/ML_AI/Capstone_Interview/data/review_1418231.csv\n",
      "Reviews being saved to: /Users/delcck/Desktop/Research/ML_AI/Capstone_Interview/data/review_1307591.csv\n",
      "Reviews being saved to: /Users/delcck/Desktop/Research/ML_AI/Capstone_Interview/data/review_1564440.csv\n",
      "Reviews being saved to: /Users/delcck/Desktop/Research/ML_AI/Capstone_Interview/data/review_1088480.csv\n",
      "Reviews being saved to: /Users/delcck/Desktop/Research/ML_AI/Capstone_Interview/data/review_1551440.csv\n",
      "Reviews being saved to: /Users/delcck/Desktop/Research/ML_AI/Capstone_Interview/data/review_1606590.csv\n",
      "Reviews being saved to: /Users/delcck/Desktop/Research/ML_AI/Capstone_Interview/data/review_1586100.csv\n",
      "Reviews being saved to: /Users/delcck/Desktop/Research/ML_AI/Capstone_Interview/data/review_1530440.csv\n",
      "Reviews being saved to: /Users/delcck/Desktop/Research/ML_AI/Capstone_Interview/data/review_1522100.csv\n",
      "Reviews being saved to: /Users/delcck/Desktop/Research/ML_AI/Capstone_Interview/data/review_1428100.csv\n",
      "Reviews being saved to: /Users/delcck/Desktop/Research/ML_AI/Capstone_Interview/data/review_1589440.csv\n",
      "Reviews being saved to: /Users/delcck/Desktop/Research/ML_AI/Capstone_Interview/data/review_1596070.csv\n",
      "Reviews being saved to: /Users/delcck/Desktop/Research/ML_AI/Capstone_Interview/data/review_1600800.csv\n",
      "Reviews being saved to: /Users/delcck/Desktop/Research/ML_AI/Capstone_Interview/data/review_1587660.csv\n",
      "Reviews being saved to: /Users/delcck/Desktop/Research/ML_AI/Capstone_Interview/data/review_1582090.csv\n",
      "Reviews being saved to: /Users/delcck/Desktop/Research/ML_AI/Capstone_Interview/data/review_1592340.csv\n",
      "Reviews being saved to: /Users/delcck/Desktop/Research/ML_AI/Capstone_Interview/data/review_1422360.csv\n"
     ]
    }
   ],
   "source": [
    "for gameID in gameIDs: extract_reviews_to_csv(gameID)"
   ]
  },
  {
   "cell_type": "code",
   "execution_count": 273,
   "id": "7129ef4e",
   "metadata": {},
   "outputs": [],
   "source": [
    "def build_pd(gameID):\n",
    "    json_path = 'data/review_' + str(gameID) +'.csv'\n",
    "    json_abspath = os.path.abspath(json_path)\n",
    "    df = pd.read_csv(json_abspath)\n",
    "    #We at this stage only analyze reviews in English.\n",
    "    df = df[df['Language'] == 'english']\n",
    "    df['Review'] = df['Review'].astype(str)\n",
    "    #remove unnecessary key\n",
    "    df = df.drop(['Steam ID'], axis=1)\n",
    "    #add a key for word count in the review\n",
    "    df['Length'] = df['Review'].apply(lambda x : len(x.split()))\n",
    "    recommend_df = df[df['Recommended'] == True]\n",
    "    recommend_df = recommend_df.reset_index(drop=True)\n",
    "    not_recommend_df = df[df['Recommended'] == False]\n",
    "    not_recommend_df = not_recommend_df.reset_index(drop=True)\n",
    "    return recommend_df, not_recommend_df"
   ]
  },
  {
   "cell_type": "code",
   "execution_count": 274,
   "id": "1e1534d1",
   "metadata": {},
   "outputs": [],
   "source": [
    "import os\n",
    "def is_non_zero_file(json_path):  \n",
    "    return os.path.isfile(json_path) and os.path.getsize(json_path) > 1"
   ]
  },
  {
   "cell_type": "code",
   "execution_count": 275,
   "id": "c4939a5e",
   "metadata": {},
   "outputs": [],
   "source": [
    "recommend_df_L = []\n",
    "not_recommend_df_L = []\n",
    "for gameID in gameIDs:\n",
    "    json_path = 'data/review_' + str(gameID) +'.csv'\n",
    "    json_abspath = os.path.abspath(json_path)\n",
    "    if is_non_zero_file(json_abspath):\n",
    "        df1, df2 = build_pd(gameID)\n",
    "        recommend_df_L.append(df1)\n",
    "        not_recommend_df_L.append(df2)"
   ]
  },
  {
   "cell_type": "code",
   "execution_count": 264,
   "id": "baad4640",
   "metadata": {},
   "outputs": [],
   "source": [
    "import string\n",
    "from nltk import sent_tokenize\n",
    "from nltk.tokenize import word_tokenize\n",
    "from nltk.corpus import stopwords\n",
    "from nltk.stem.porter import PorterStemmer"
   ]
  },
  {
   "cell_type": "code",
   "execution_count": 276,
   "id": "cae22bf3",
   "metadata": {},
   "outputs": [],
   "source": [
    "def clean_text(df):\n",
    "    max_iter = len(df)\n",
    "    #build a table to translate each punctuation to empty text.\n",
    "    table = str.maketrans('', '', string.punctuation)\n",
    "    #build a list of stopwords based on an existing library\n",
    "    stop_words = stopwords.words('english')\n",
    "    #for transforming each word into its root\n",
    "    porter = PorterStemmer()\n",
    "    for i in range(0,max_iter):\n",
    "        text_raw_str = df.iloc[i]['Review']\n",
    "        tokens = word_tokenize(text_raw_str)\n",
    "        tokens_lower = [w.lower() for w in tokens]\n",
    "        tokens_no_punct = [w.translate(table) for w in tokens_lower]\n",
    "        words = [word for word in tokens_no_punct if word.isalpha()]\n",
    "        words = [w for w in words if not w in stop_words]\n",
    "        words_root = [porter.stem(word) for word in words]\n",
    "        separator = ' '\n",
    "        text_clean_str = separator.join(words_root)\n",
    "        df.at[i, 'Review'] = text_clean_str\n",
    "    return df"
   ]
  },
  {
   "cell_type": "code",
   "execution_count": 280,
   "id": "846f9cbc",
   "metadata": {},
   "outputs": [],
   "source": [
    "rec_clean_df_L = []\n",
    "not_rec_clean_df_L = []\n",
    "count = 0\n",
    "for df in recommend_df_L: \n",
    "    rec_clean_df_L.append(clean_text(df))\n",
    "for df in not_recommend_df_L: \n",
    "    not_rec_clean_df_L.append(clean_text(df))"
   ]
  },
  {
   "cell_type": "code",
   "execution_count": 281,
   "id": "0b807cb6",
   "metadata": {},
   "outputs": [],
   "source": [
    "from sklearn.feature_extraction.text import CountVectorizer\n",
    "\n",
    "#Please be aware that many of the text cleaning above can be done within\n",
    "#CountVectorizer, except I am not familiair enough to CountVectorizer yet."
   ]
  },
  {
   "cell_type": "code",
   "execution_count": 283,
   "id": "4494839d",
   "metadata": {},
   "outputs": [],
   "source": [
    "#Concatenate cleaned text\n",
    "rec_clean_df_whole = []\n",
    "rec_clean_df_whole.append(pd.concat(rec_clean_df_L))\n",
    "not_rec_clean_df_whole = []\n",
    "not_rec_clean_df_whole.append(pd.concat(not_rec_clean_df_L))"
   ]
  },
  {
   "cell_type": "code",
   "execution_count": 285,
   "id": "0e53e071",
   "metadata": {},
   "outputs": [],
   "source": [
    "def word_count_vect(df):\n",
    "    count_vect = CountVectorizer(ngram_range=(1,2),\n",
    "                                stop_words=['game','ca','nt']).fit(df['Review'])\n",
    "\n",
    "    words = count_vect.transform(df['Review'])\n",
    "    #the total count for each identified vocabulary\n",
    "    sum_words = words.sum(axis=0)\n",
    "\n",
    "    word_count = []\n",
    "    for word, index in count_vect.vocabulary_.items():\n",
    "        word_count.append((word, sum_words[0, index]))\n",
    "    \n",
    "    sorted_word_count = sorted(word_count, key=lambda x: x[1],\n",
    "                                reverse=True)\n",
    "\n",
    "    return sorted_word_count"
   ]
  },
  {
   "cell_type": "code",
   "execution_count": 291,
   "id": "30361c16",
   "metadata": {},
   "outputs": [],
   "source": [
    "rec_word_count_whole = []\n",
    "rec_word_count_whole.append(word_count_vect(rec_clean_df_whole[0]))\n",
    "\n",
    "not_rec_word_count_whole = []\n",
    "not_rec_word_count_whole.append(word_count_vect(not_rec_clean_df_whole[0]))"
   ]
  },
  {
   "cell_type": "code",
   "execution_count": 296,
   "id": "e34cc121",
   "metadata": {},
   "outputs": [],
   "source": [
    "import matplotlib.pyplot as plt"
   ]
  },
  {
   "cell_type": "code",
   "execution_count": 319,
   "id": "4c8bb7d2",
   "metadata": {},
   "outputs": [],
   "source": [
    "def plot_common_words(rec_word_count_L, not_rec_word_count_L, game_name_L):\n",
    "\n",
    "    num_row = len(game_name_L)\n",
    "    plt.figure(figsize=(10,10))\n",
    "    j = num_row\n",
    "    for i in range(0,num_row):\n",
    "        k = i * 2 + 1\n",
    "        #Let show only the top 20\n",
    "        data_raw = rec_word_count_L[i][:20]\n",
    "        x = []  #vocabulary\n",
    "        y = []  #count\n",
    "        for data in data_raw:\n",
    "            x.append(data[0])\n",
    "            y.append(data[1])\n",
    "\n",
    "        plt.subplot(j,2,k)\n",
    "        plt.title(game_name_L[i], fontsize=14)\n",
    "        plt.barh(x, y)\n",
    "        plt.ylabel('Descriptions (\\'Recommended\\')', fontsize=14)\n",
    "        plt.xlabel('Counts', fontsize=14)\n",
    "        plt.xlim(0,250)\n",
    "        plt.gca().invert_yaxis()\n",
    "        plt.tight_layout(pad=3.0)\n",
    "\n",
    "    for i in range(0,num_row):\n",
    "        k = i * 2 + 2\n",
    "        data_raw = not_rec_word_count_L[i][:20]\n",
    "        x = []  #vocabulary\n",
    "        y = []  #count\n",
    "        for data in data_raw:\n",
    "            x.append(data[0])\n",
    "            y.append(data[1])\n",
    "\n",
    "        plt.subplot(j,2,k)\n",
    "        plt.title(game_name_L[i], fontsize=14)\n",
    "        plt.barh(x, y)\n",
    "        plt.ylabel('Descriptions (\\'Not Recommended\\')', fontsize=14)\n",
    "        plt.xlabel('Counts', fontsize=14)\n",
    "        plt.xlim(0,250)\n",
    "        plt.gca().invert_yaxis()\n",
    "        plt.tight_layout(pad=3.0)\n",
    "\n",
    "    plt.show()"
   ]
  },
  {
   "cell_type": "code",
   "execution_count": 320,
   "id": "116993dc",
   "metadata": {},
   "outputs": [
    {
     "data": {
      "image/png": "[encoded data removed]",
      "text/plain": [
       "<Figure size 720x720 with 2 Axes>"
      ]
     },
     "metadata": {
      "needs_background": "light"
     },
     "output_type": "display_data"
    }
   ],
   "source": [
    "game_name_L = ['Search result']\n",
    "plot_common_words(rec_word_count_whole, not_rec_word_count_whole, game_name_L)"
   ]
  },
  {
   "cell_type": "code",
   "execution_count": 318,
   "id": "f2237143",
   "metadata": {},
   "outputs": [
    {
     "data": {
      "text/plain": [
       "Text(0.5, 1.0, 'For players not recommeding a game')"
      ]
     },
     "execution_count": 318,
     "metadata": {},
     "output_type": "execute_result"
    },
    {
     "data": {
      "image/png": "[encoded data removed]",
      "text/plain": [
       "<Figure size 432x288 with 1 Axes>"
      ]
     },
     "metadata": {
      "needs_background": "light"
     },
     "output_type": "display_data"
    },
    {
     "data": {
      "image/png": "[encoded data removed]",
      "text/plain": [
       "<Figure size 432x288 with 1 Axes>"
      ]
     },
     "metadata": {
      "needs_background": "light"
     },
     "output_type": "display_data"
    }
   ],
   "source": [
    "rec_clean_df_whole[0].plot(kind=\"scatter\",x=\"Length\", y=\"Play time\")\n",
    "plt.xlabel(\"Review word counts\", fontsize=8)\n",
    "plt.ylabel(\"Play time (hrs)\", fontsize=8)\n",
    "plt.title('For players recommeding a game')\n",
    "\n",
    "\n",
    "not_rec_clean_df_whole[0].plot(kind=\"scatter\",x=\"Length\", y=\"Play time\")\n",
    "plt.xlabel(\"Review word counts\", fontsize=8)\n",
    "plt.ylabel(\"Play time (hrs)\", fontsize=8)\n",
    "plt.title('For players not recommeding a game')"
   ]
  },
  {
   "cell_type": "code",
   "execution_count": 239,
   "id": "8bdbabb2",
   "metadata": {},
   "outputs": [],
   "source": []
  },
  {
   "cell_type": "code",
   "execution_count": null,
   "id": "cb949a40",
   "metadata": {},
   "outputs": [],
   "source": []
  },
  {
   "cell_type": "code",
   "execution_count": null,
   "id": "3dd4d280",
   "metadata": {},
   "outputs": [],
   "source": []
  },
  {
   "cell_type": "code",
   "execution_count": null,
   "id": "413b3312",
   "metadata": {},
   "outputs": [],
   "source": []
  }
 ],
 "metadata": {
  "kernelspec": {
   "display_name": "Python 3",
   "language": "python",
   "name": "python3"
  },
  "language_info": {
   "codemirror_mode": {
    "name": "ipython",
    "version": 3
   },
   "file_extension": ".py",
   "mimetype": "text/x-python",
   "name": "python",
   "nbconvert_exporter": "python",
   "pygments_lexer": "ipython3",
   "version": "3.8.8"
  }
 },
 "nbformat": 4,
 "nbformat_minor": 5
}
